{
 "cells": [
  {
   "cell_type": "markdown",
   "metadata": {},
   "source": [
    "## Reading the data sets and preprocessing data"
   ]
  },
  {
   "cell_type": "code",
   "execution_count": 1,
   "metadata": {
    "collapsed": false
   },
   "outputs": [
    {
     "name": "stdout",
     "output_type": "stream",
     "text": [
      "   PassengerId  Survived  Pclass  \\\n",
      "0            1         0       3   \n",
      "1            2         1       1   \n",
      "2            3         1       3   \n",
      "3            4         1       1   \n",
      "4            5         0       3   \n",
      "\n",
      "                                                Name     Sex   Age  SibSp  \\\n",
      "0                            Braund, Mr. Owen Harris    male  22.0      1   \n",
      "1  Cumings, Mrs. John Bradley (Florence Briggs Th...  female  38.0      1   \n",
      "2                             Heikkinen, Miss. Laina  female  26.0      0   \n",
      "3       Futrelle, Mrs. Jacques Heath (Lily May Peel)  female  35.0      1   \n",
      "4                           Allen, Mr. William Henry    male  35.0      0   \n",
      "\n",
      "   Parch            Ticket     Fare Cabin Embarked  \n",
      "0      0         A/5 21171   7.2500   NaN        S  \n",
      "1      0          PC 17599  71.2833   C85        C  \n",
      "2      0  STON/O2. 3101282   7.9250   NaN        S  \n",
      "3      0            113803  53.1000  C123        S  \n",
      "4      0            373450   8.0500   NaN        S  \n"
     ]
    }
   ],
   "source": [
    "import pandas as pd\n",
    "\n",
    "train = pd.read_csv('train.csv')\n",
    "holdout = pd.read_csv('test.csv')\n",
    "print(train.head())"
   ]
  },
  {
   "cell_type": "code",
   "execution_count": 2,
   "metadata": {
    "collapsed": true
   },
   "outputs": [],
   "source": [
    "# %load functions.py\n",
    "def process_missing(df):\n",
    "    \"\"\"Handle various missing values from the data set\n",
    "\n",
    "    Usage\n",
    "    ------\n",
    "\n",
    "    train = process_missing(train)\n",
    "    \"\"\"\n",
    "    df[\"Fare\"] = df[\"Fare\"].fillna(train[\"Fare\"].mean())\n",
    "    df[\"Embarked\"] = df[\"Embarked\"].fillna(\"S\")\n",
    "    return df\n",
    "\n",
    "def process_age(df):\n",
    "    \"\"\"Process the Age column into pre-defined 'bins' \n",
    "\n",
    "    Usage\n",
    "    ------\n",
    "\n",
    "    train = process_age(train)\n",
    "    \"\"\"\n",
    "    df[\"Age\"] = df[\"Age\"].fillna(-0.5)\n",
    "    cut_points = [-1,0,5,12,18,35,60,100]\n",
    "    label_names = [\"Missing\",\"Infant\",\"Child\",\"Teenager\",\"Young Adult\",\"Adult\",\"Senior\"]\n",
    "    df[\"Age_categories\"] = pd.cut(df[\"Age\"],cut_points,labels=label_names)\n",
    "    return df\n",
    "\n",
    "def process_fare(df):\n",
    "    \"\"\"Process the Fare column into pre-defined 'bins' \n",
    "\n",
    "    Usage\n",
    "    ------\n",
    "\n",
    "    train = process_fare(train)\n",
    "    \"\"\"\n",
    "    cut_points = [-1,12,50,100,1000]\n",
    "    label_names = [\"0-12\",\"12-50\",\"50-100\",\"100+\"]\n",
    "    df[\"Fare_categories\"] = pd.cut(df[\"Fare\"],cut_points,labels=label_names)\n",
    "    return df\n",
    "\n",
    "def process_cabin(df):\n",
    "    \"\"\"Extract the first letter in the Cabin column \n",
    "\n",
    "    Usage\n",
    "    ------\n",
    "\n",
    "    train process_cabin(train)\n",
    "    \"\"\"\n",
    "    df[\"Cabin_type\"] = df[\"Cabin\"].str[0]\n",
    "    df[\"Cabin_type\"] = df[\"Cabin_type\"].fillna(\"Unknown\")\n",
    "    df = df.drop('Cabin',axis=1)\n",
    "    return df\n",
    "\n",
    "def process_titles(df):\n",
    "    \"\"\"Extract and categorize the title from the name column \n",
    "\n",
    "    Usage\n",
    "    ------\n",
    "\n",
    "    train = process_titles(train)\n",
    "    \"\"\"\n",
    "    titles = {\n",
    "        \"Mr\" :         \"Mr\",\n",
    "        \"Mme\":         \"Mrs\",\n",
    "        \"Ms\":          \"Mrs\",\n",
    "        \"Mrs\" :        \"Mrs\",\n",
    "        \"Master\" :     \"Master\",\n",
    "        \"Mlle\":        \"Miss\",\n",
    "        \"Miss\" :       \"Miss\",\n",
    "        \"Capt\":        \"Officer\",\n",
    "        \"Col\":         \"Officer\",\n",
    "        \"Major\":       \"Officer\",\n",
    "        \"Dr\":          \"Officer\",\n",
    "        \"Rev\":         \"Officer\",\n",
    "        \"Jonkheer\":    \"Royalty\",\n",
    "        \"Don\":         \"Royalty\",\n",
    "        \"Sir\" :        \"Royalty\",\n",
    "        \"Countess\":    \"Royalty\",\n",
    "        \"Dona\":        \"Royalty\",\n",
    "        \"Lady\" :       \"Royalty\"\n",
    "    }\n",
    "    extracted_titles = df[\"Name\"].str.extract(' ([A-Za-z]+)\\.',expand=False)\n",
    "    df[\"Title\"] = extracted_titles.map(titles)\n",
    "    return df\n",
    "\n",
    "def create_dummies(df,column_name):\n",
    "    \"\"\"Create Dummy Columns (One Hot Encoding) from a single Column\n",
    "\n",
    "    Usage\n",
    "    ------\n",
    "\n",
    "    train = create_dummies(train,\"Age\")\n",
    "    \"\"\"\n",
    "    dummies = pd.get_dummies(df[column_name],prefix=column_name)\n",
    "    df = pd.concat([df,dummies],axis=1)\n",
    "    return df"
   ]
  },
  {
   "cell_type": "code",
   "execution_count": 3,
   "metadata": {
    "collapsed": false
   },
   "outputs": [
    {
     "name": "stdout",
     "output_type": "stream",
     "text": [
      "   PassengerId  Survived  Pclass  \\\n",
      "0            1         0       3   \n",
      "1            2         1       1   \n",
      "2            3         1       3   \n",
      "3            4         1       1   \n",
      "4            5         0       3   \n",
      "\n",
      "                                                Name     Sex   Age  SibSp  \\\n",
      "0                            Braund, Mr. Owen Harris    male  22.0      1   \n",
      "1  Cumings, Mrs. John Bradley (Florence Briggs Th...  female  38.0      1   \n",
      "2                             Heikkinen, Miss. Laina  female  26.0      0   \n",
      "3       Futrelle, Mrs. Jacques Heath (Lily May Peel)  female  35.0      1   \n",
      "4                           Allen, Mr. William Henry    male  35.0      0   \n",
      "\n",
      "   Parch            Ticket     Fare    ...    Cabin_type_B Cabin_type_C  \\\n",
      "0      0         A/5 21171   7.2500    ...               0            0   \n",
      "1      0          PC 17599  71.2833    ...               0            1   \n",
      "2      0  STON/O2. 3101282   7.9250    ...               0            0   \n",
      "3      0            113803  53.1000    ...               0            1   \n",
      "4      0            373450   8.0500    ...               0            0   \n",
      "\n",
      "  Cabin_type_D Cabin_type_E Cabin_type_F  Cabin_type_G  Cabin_type_T  \\\n",
      "0            0            0            0             0             0   \n",
      "1            0            0            0             0             0   \n",
      "2            0            0            0             0             0   \n",
      "3            0            0            0             0             0   \n",
      "4            0            0            0             0             0   \n",
      "\n",
      "   Cabin_type_Unknown  Sex_female  Sex_male  \n",
      "0                   1           0         1  \n",
      "1                   0           1         0  \n",
      "2                   1           1         0  \n",
      "3                   0           1         0  \n",
      "4                   1           0         1  \n",
      "\n",
      "[5 rows x 43 columns]\n"
     ]
    }
   ],
   "source": [
    "def process_data(df):\n",
    "    new_df = process_missing(df)\n",
    "    new_df = process_age(new_df)\n",
    "    new_df = process_fare(new_df)\n",
    "    new_df = process_titles(new_df)\n",
    "    new_df = process_cabin(new_df)\n",
    "    \n",
    "    for column in ['Age_categories','Fare_categories', 'Title',\n",
    "                  'Cabin_type', 'Sex']:\n",
    "        new_df = create_dummies(new_df, column)\n",
    "   \n",
    "    return new_df\n",
    "\n",
    "train = process_data(train)\n",
    "holdout = process_data(holdout)   \n",
    "print(train.head())"
   ]
  },
  {
   "cell_type": "markdown",
   "metadata": {},
   "source": [
    "## Exploring data and engineering new features"
   ]
  },
  {
   "cell_type": "code",
   "execution_count": 4,
   "metadata": {
    "collapsed": false
   },
   "outputs": [
    {
     "data": {
      "image/png": "[encoded data removed]",
      "text/plain": [
       "<matplotlib.figure.Figure at 0x7f48b210eeb8>"
      ]
     },
     "metadata": {},
     "output_type": "display_data"
    },
    {
     "data": {
      "image/png": "[encoded data removed]",
      "text/plain": [
       "<matplotlib.figure.Figure at 0x7f4910073898>"
      ]
     },
     "metadata": {},
     "output_type": "display_data"
    }
   ],
   "source": [
    "# explore SibSp and Parch columns\n",
    "train['SibSp'].describe()\n",
    "train['Parch'].describe()\n",
    "\n",
    "import matplotlib.pyplot as plt\n",
    "%matplotlib inline\n",
    "\n",
    "plt.hist(train['SibSp'], bins=9)\n",
    "plt.show()\n",
    "\n",
    "plt.hist(train['Parch'], bins=9)\n",
    "plt.show()"
   ]
  },
  {
   "cell_type": "code",
   "execution_count": 5,
   "metadata": {
    "collapsed": false
   },
   "outputs": [
    {
     "data": {
      "image/png": "[encoded data removed]",
      "text/plain": [
       "<matplotlib.figure.Figure at 0x7f48b217deb8>"
      ]
     },
     "metadata": {},
     "output_type": "display_data"
    },
    {
     "data": {
      "image/png": "[encoded data removed]",
      "text/plain": [
       "<matplotlib.figure.Figure at 0x7f48ad323b70>"
      ]
     },
     "metadata": {},
     "output_type": "display_data"
    }
   ],
   "source": [
    "sibsp_pivot = train.pivot_table(index='SibSp', values='Survived')\n",
    "sibsp_pivot.plot.bar()\n",
    "plt.show()\n",
    "\n",
    "parch_pivot = train.pivot_table(index='Parch', values='Survived')\n",
    "parch_pivot.plot.bar(ylim=(0,1))\n",
    "plt.show()"
   ]
  },
  {
   "cell_type": "code",
   "execution_count": 6,
   "metadata": {
    "collapsed": false
   },
   "outputs": [
    {
     "data": {
      "image/png": "[encoded data removed]",
      "text/plain": [
       "<matplotlib.figure.Figure at 0x7f48b217cba8>"
      ]
     },
     "metadata": {},
     "output_type": "display_data"
    }
   ],
   "source": [
    "train['Family'] = train[[\"SibSp\",\"Parch\"]].sum(axis=1)\n",
    "family_pivot = train.pivot_table(index='Family', values='Survived')\n",
    "plt.axhspan(.4, .6, alpha=0.2, color='red')\n",
    "family_pivot.plot.bar()\n",
    "plt.show()"
   ]
  },
  {
   "cell_type": "markdown",
   "metadata": {},
   "source": [
    "Both \"SibSp\" (siblings and spouses) and \"Parch\" (parents and children) columns appear to have an inversed-U relationship with survival. When the two columns are added together to create a new feature indicating total family members, the relationship is even more clear: Passengers with 1-3 family members on board were more likely to survive than those with no family members or more than 3 family members. Therefore, we can create a new feature with three levels: solo, small family, and large family."
   ]
  },
  {
   "cell_type": "code",
   "execution_count": 8,
   "metadata": {
    "collapsed": false
   },
   "outputs": [],
   "source": [
    "def process_family(df):\n",
    "    df['Family'] = df[[\"SibSp\",\"Parch\"]].sum(axis=1) \n",
    "    df['FamilySize'] = 'solo'\n",
    "    df.loc[((df['Family']>=1) & (df['Family']<=3)), 'FamilySize'] = 'small'\n",
    "    df.loc[(df['Family']>3), 'FamilySize'] = 'large'\n",
    "    df = df.drop(\"Family\",axis=1)\n",
    "    \n",
    "    # create dummy variables for FamilySize \n",
    "    df = create_dummies(df, 'FamilySize')\n",
    "    return df\n",
    "\n",
    "train = process_family(train)\n",
    "holdout = process_family(holdout)"
   ]
  },
  {
   "cell_type": "markdown",
   "metadata": {},
   "source": [
    "## Selecting the best features for prediction"
   ]
  },
  {
   "cell_type": "code",
   "execution_count": 10,
   "metadata": {
    "collapsed": false
   },
   "outputs": [
    {
     "name": "stdout",
     "output_type": "stream",
     "text": [
      "Index(['Pclass', 'Age', 'SibSp', 'Fare', 'Title_Mr', 'Cabin_type_Unknown',\n",
      "       'Sex_female', 'Sex_male', 'FamilySize_small'],\n",
      "      dtype='object')\n"
     ]
    }
   ],
   "source": [
    "from sklearn.feature_selection import RFECV\n",
    "from sklearn.ensemble import RandomForestClassifier\n",
    "import numpy as np\n",
    "\n",
    "def select_features(df):\n",
    "    # remove non-numeric columns or columns containing null values\n",
    "    df_numerics = df.select_dtypes(include=[np.number])\n",
    "    df_numerics_dropna = df_numerics.dropna(axis=1)\n",
    "    \n",
    "    all_X = df_numerics_dropna.drop(['PassengerId','Survived'], axis=1)\n",
    "    all_y = df_numerics_dropna['Survived']\n",
    "    \n",
    "    # feature selection with random forest\n",
    "    rf = RandomForestClassifier(random_state=1)\n",
    "    selector = RFECV(rf, cv=10)\n",
    "    selector.fit(all_X, all_y)\n",
    "    optimized_columns = all_X.columns[selector.support_]\n",
    "    \n",
    "    print(optimized_columns)\n",
    "    return optimized_columns\n",
    "    \n",
    "best_predictors = select_features(train)"
   ]
  },
  {
   "cell_type": "markdown",
   "metadata": {},
   "source": [
    "## Selecting and tuning different models"
   ]
  },
  {
   "cell_type": "code",
   "execution_count": 13,
   "metadata": {
    "collapsed": false
   },
   "outputs": [
    {
     "name": "stdout",
     "output_type": "stream",
     "text": [
      "Logistic regression\n",
      "{'solver': 'newton-cg'}\n",
      "0.806958473625\n",
      "K nearest neighbors\n",
      "{'p': 1, 'n_neighbors': 15, 'algorithm': 'kd_tree', 'weights': 'distance'}\n",
      "0.769921436588\n",
      "Random forest\n",
      "{'max_features': 'log2', 'n_estimators': 9, 'max_depth': 10, 'min_samples_split': 5, 'criterion': 'gini', 'min_samples_leaf': 8}\n",
      "0.837261503928\n"
     ]
    }
   ],
   "source": [
    "from sklearn.model_selection import GridSearchCV\n",
    "from sklearn.neighbors import KNeighborsClassifier\n",
    "from sklearn.linear_model import LogisticRegression\n",
    "\n",
    "def select_model(df, features):\n",
    "    all_X = df[features]\n",
    "    all_y = df['Survived']\n",
    "    \n",
    "    # a list of dictionaries, each containing an algorithm name,\n",
    "    # its estimator, and a dictionary of hyperparameters\n",
    "    models = [{'name': 'Logistic regression',\n",
    "              'estimator': LogisticRegression(),\n",
    "              'hyperparameters': \n",
    "                  {\"solver\": [\"newton-cg\", \"lbfgs\", \"liblinear\"]}\n",
    "              },\n",
    "             {'name': 'K nearest neighbors',\n",
    "             'estimator': KNeighborsClassifier(),\n",
    "             'hyperparameters':\n",
    "                 {\"n_neighbors\": range(1,20,2),\n",
    "                 \"weights\": [\"distance\", \"uniform\"],\n",
    "                 \"algorithm\": [\"ball_tree\", \"kd_tree\", \"brute\"],\n",
    "                 \"p\": [1,2]}\n",
    "             },\n",
    "             {'name': 'Random forest',\n",
    "             'estimator': RandomForestClassifier(),\n",
    "             'hyperparameters':\n",
    "                 {\"n_estimators\": [4, 6, 9],\n",
    "                 \"criterion\": [\"entropy\", \"gini\"],\n",
    "                 \"max_depth\": [2, 5, 10],\n",
    "                 \"max_features\": [\"log2\", \"sqrt\"],\n",
    "                 \"min_samples_leaf\": [1, 5, 8],\n",
    "                 \"min_samples_split\": [2, 3, 5]}\n",
    "             }]\n",
    "    \n",
    "    for model in models:\n",
    "        print(model['name'])\n",
    "        method = model['estimator']\n",
    "        grid = GridSearchCV(method, model['hyperparameters'])\n",
    "        grid.fit(all_X, all_y)\n",
    "        model['best parameters'] = grid.best_params_\n",
    "        model['best score'] = grid.best_score_\n",
    "        model['best estimator'] = grid.best_estimator_\n",
    "        print(model['best parameters'])\n",
    "        print(model['best score'])\n",
    "        \n",
    "    return models\n",
    "\n",
    "model_selection = select_model(train, best_predictors)"
   ]
  },
  {
   "cell_type": "markdown",
   "metadata": {},
   "source": [
    "## Making a submission to Kaggle"
   ]
  },
  {
   "cell_type": "code",
   "execution_count": 14,
   "metadata": {
    "collapsed": true
   },
   "outputs": [],
   "source": [
    "# function to create a submission data frame and save it as .csv file\n",
    "def save_submission_file(model, columns, file_name=\"submission.csv\"):\n",
    "    predictions = model.predict(holdout[columns])\n",
    "    submission_df = {'PassengerId': holdout['PassengerId'],\n",
    "                    'Survived': predictions}\n",
    "    submission = pd.DataFrame(submission_df)\n",
    "    submission.to_csv(file_name, index=False)"
   ]
  },
  {
   "cell_type": "code",
   "execution_count": 15,
   "metadata": {
    "collapsed": false
   },
   "outputs": [],
   "source": [
    "# make predictions with the best random forest model selected above\n",
    "rf = model_selection[2]['best estimator']\n",
    "save_submission_file(rf, best_predictors)"
   ]
  }
 ],
 "metadata": {
  "kernelspec": {
   "display_name": "Python 3",
   "language": "python",
   "name": "python3"
  },
  "language_info": {
   "codemirror_mode": {
    "name": "ipython",
    "version": 3
   },
   "file_extension": ".py",
   "mimetype": "text/x-python",
   "name": "python",
   "nbconvert_exporter": "python",
   "pygments_lexer": "ipython3",
   "version": "3.4.3"
  }
 },
 "nbformat": 4,
 "nbformat_minor": 2
}
